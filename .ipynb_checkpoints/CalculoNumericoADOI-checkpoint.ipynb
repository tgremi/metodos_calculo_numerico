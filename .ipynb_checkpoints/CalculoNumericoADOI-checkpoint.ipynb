{
 "cells": [
  {
   "cell_type": "markdown",
   "metadata": {},
   "source": [
    "## Como exemplo de execução é utilizado a seguinte integral para cálculo utilizando método dos trapézios e Simpson \n",
    "\n",
    "$$\\int_{1}^3 f(x^2 + cos(1/x))dx$$\n"
   ]
  },
  {
   "cell_type": "code",
   "execution_count": 1,
   "metadata": {},
   "outputs": [],
   "source": [
    "import math"
   ]
  },
  {
   "cell_type": "code",
   "execution_count": 2,
   "metadata": {},
   "outputs": [],
   "source": [
    "def Trapezoidal(f, a, b, n):\n",
    "    h = (b-a)/float(n)\n",
    "    s = 0.001*(f(a) + f(b))\n",
    "    for i in range(1, n, 1):\n",
    "        s = s + f(a + i*h)\n",
    "    return h*s"
   ]
  },
  {
   "cell_type": "code",
   "execution_count": 3,
   "metadata": {},
   "outputs": [],
   "source": [
    "\n",
    "def Simpson(f, a, b, n): \n",
    "    sum = float()\n",
    "    sum += f(a) \n",
    "    sum += f(b) \n",
    "    width=(b-a)/(2*n)\n",
    "    oddSum = float()\n",
    "    evenSum = float()\n",
    "    for i in range(1,n):\n",
    "        oddSum += f(2*width*i+a)\n",
    "    sum += oddSum * 2\n",
    "    for i in range(1,n+1): \n",
    "        evenSum += f(width*(-1+2*i)+a)\n",
    "    sum += evenSum * 4\n",
    "    return sum * width/3"
   ]
  },
  {
   "cell_type": "code",
   "execution_count": 4,
   "metadata": {},
   "outputs": [],
   "source": [
    "def get_expression():\n",
    "    print(\"::::::: [Digite a função] ::::::::\")\n",
    "    print(\"\"\"Orientacoes para gerar a funcao desejada: \n",
    "    para elevar o valor a uma potencia utilize: ** (ex: 2**3)\n",
    "    divisao: 1/2 \n",
    "    multiplicacao simples: 2*2 \n",
    "    exponencial: math.exp\n",
    "    seno: math.sin(x)\n",
    "    cosseno: math.cos(x) \"\"\")\n",
    "    from_input = input('')\n",
    "    default_value = '(x**2 + math.cos(1/x))'\n",
    "    if from_input == \"\":\n",
    "        return eval('lambda x: ' + default_value)\n",
    "    return eval('lambda x: ' + from_input)"
   ]
  },
  {
   "cell_type": "code",
   "execution_count": 5,
   "metadata": {},
   "outputs": [
    {
     "name": "stdout",
     "output_type": "stream",
     "text": [
      "::::::: [Digite a função] ::::::::\n",
      "Orientacoes para gerar a funcao desejada: \n",
      "    para elevar o valor a uma potencia utilize: ** (ex: 2**3)\n",
      "    divisao: 1/2 \n",
      "    multiplicacao simples: 2*2 \n",
      "    exponencial: math.exp\n",
      "    seno: math.sin(x)\n",
      "    cosseno: math.cos(x) \n",
      "\n",
      "____________________________________________ \n"
     ]
    }
   ],
   "source": [
    "function = get_expression()\n",
    "print(\"____________________________________________ \")"
   ]
  },
  {
   "cell_type": "code",
   "execution_count": 6,
   "metadata": {
    "scrolled": true
   },
   "outputs": [
    {
     "name": "stdout",
     "output_type": "stream",
     "text": [
      "<function <lambda> at 0x7fef54760560>\n"
     ]
    }
   ],
   "source": [
    "print(function)"
   ]
  },
  {
   "cell_type": "code",
   "execution_count": 7,
   "metadata": {},
   "outputs": [
    {
     "name": "stdout",
     "output_type": "stream",
     "text": [
      "Digite o limite inferior da integral: \n",
      "Valor padrão (1)\n",
      "\n"
     ]
    }
   ],
   "source": [
    "print(\"Digite o limite inferior da integral: \")\n",
    "print(\"Valor padrão (1)\")\n",
    "a = input('')\n",
    "if a == \"\": \n",
    "    a = eval('1')\n",
    "else: \n",
    "    a = eval(a)"
   ]
  },
  {
   "cell_type": "code",
   "execution_count": 8,
   "metadata": {},
   "outputs": [
    {
     "name": "stdout",
     "output_type": "stream",
     "text": [
      "Digite o limite superior da integral: \n",
      "Valor padrão (3)\n",
      "\n"
     ]
    }
   ],
   "source": [
    "print(\"Digite o limite superior da integral: \")\n",
    "print(\"Valor padrão (3)\")\n",
    "b = input('')\n",
    "if b == \"\": \n",
    "    b = eval('3')\n",
    "else: \n",
    "    b = eval(b) "
   ]
  },
  {
   "cell_type": "code",
   "execution_count": 9,
   "metadata": {},
   "outputs": [
    {
     "name": "stdout",
     "output_type": "stream",
     "text": [
      "Digite a quantidade de intervalos: \n",
      "2000\n"
     ]
    }
   ],
   "source": [
    "print(\"Digite a quantidade de intervalos: \")\n",
    "n = int(input())"
   ]
  },
  {
   "cell_type": "code",
   "execution_count": 10,
   "metadata": {},
   "outputs": [
    {
     "name": "stdout",
     "output_type": "stream",
     "text": [
      "::::::::::::::::::::::: [Trapezio] :::::::::::::::::::::::\n",
      "10.340703817179248\n"
     ]
    }
   ],
   "source": [
    "resultFromTrapezoidal = Trapezoidal(function, a, b, n)\n",
    "print(\"::::::::::::::::::::::: [Trapezio] :::::::::::::::::::::::\")\n",
    "print(resultFromTrapezoidal)"
   ]
  },
  {
   "cell_type": "code",
   "execution_count": 11,
   "metadata": {},
   "outputs": [
    {
     "name": "stdout",
     "output_type": "stream",
     "text": [
      "::::::::::::::::::::::: [Simpson] :::::::::::::::::::::::\n",
      "10.34643469530574\n"
     ]
    }
   ],
   "source": [
    "resultFromSimpson = Simpson(function, a, b, n)\n",
    "print(\"::::::::::::::::::::::: [Simpson] :::::::::::::::::::::::\")\n",
    "print(resultFromSimpson)"
   ]
  },
  {
   "cell_type": "code",
   "execution_count": 12,
   "metadata": {},
   "outputs": [
    {
     "name": "stdout",
     "output_type": "stream",
     "text": [
      "::::::::::::::::::::::: [ERROR TRAPEZOIDAL] :::::::::::::::::::::::\n",
      "-1.9360491767326504\n"
     ]
    }
   ],
   "source": [
    "exact = function(3) - function(1) \n",
    "error = exact - resultFromTrapezoidal\n",
    "print(\"::::::::::::::::::::::: [ERROR TRAPEZOIDAL] :::::::::::::::::::::::\")\n",
    "print(error)"
   ]
  }
 ],
 "metadata": {
  "kernelspec": {
   "display_name": "Python 3",
   "language": "python",
   "name": "python3"
  },
  "language_info": {
   "codemirror_mode": {
    "name": "ipython",
    "version": 3
   },
   "file_extension": ".py",
   "mimetype": "text/x-python",
   "name": "python",
   "nbconvert_exporter": "python",
   "pygments_lexer": "ipython3",
   "version": "3.7.6"
  }
 },
 "nbformat": 4,
 "nbformat_minor": 4
}
