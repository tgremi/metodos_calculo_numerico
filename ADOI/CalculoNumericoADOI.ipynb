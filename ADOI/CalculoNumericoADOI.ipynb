{
 "cells": [
  {
   "cell_type": "code",
   "execution_count": 1,
   "metadata": {},
   "outputs": [],
   "source": [
    "import math"
   ]
  },
  {
   "cell_type": "code",
   "execution_count": 2,
   "metadata": {},
   "outputs": [],
   "source": [
    "def Trapezoidal(f, a, b, n):\n",
    "    h = (b-a)/float(n)\n",
    "    s = 0.001*(f(a) + f(b))\n",
    "    for i in range(1, n, 1):\n",
    "        s = s + f(a + i*h)\n",
    "    return h*s"
   ]
  },
  {
   "cell_type": "code",
   "execution_count": 3,
   "metadata": {},
   "outputs": [],
   "source": [
    "\n",
    "def Simpson(f, a, b, n): \n",
    "    sum = float()\n",
    "    sum += f(a) \n",
    "    sum += f(b) \n",
    "    width=(b-a)/(2*n)\n",
    "    oddSum = float()\n",
    "    evenSum = float()\n",
    "    for i in range(1,n):\n",
    "        oddSum += f(2*width*i+a)\n",
    "    sum += oddSum * 2\n",
    "    for i in range(1,n+1): \n",
    "        evenSum += f(width*(-1+2*i)+a)\n",
    "    sum += evenSum * 4\n",
    "    return sum * width/3"
   ]
  },
  {
   "cell_type": "code",
   "execution_count": 4,
   "metadata": {},
   "outputs": [],
   "source": [
    "def get_expression():\n",
    "    print(\"::::::: [Digite a função] ::::::::\")\n",
    "    print(\"\"\"Orientacoes para gerar a funcao desejada: \n",
    "    para elevar o valor a uma potencia utilize: ** (ex: 2**3)\n",
    "    divisao: 1/2 \n",
    "    multiplicacao simples: 2*2 \n",
    "    exponencial: math.exp\n",
    "    seno: math.sin(x)\n",
    "    cosseno: math.cos(x) \"\"\")\n",
    "    from_input = input('')\n",
    "    default_value = '(x**2 + math.cos(1/x))'\n",
    "    if from_input == \"\":\n",
    "        return eval('lambda x: ' + default_value)\n",
    "    return eval('lambda x: ' + from_input)"
   ]
  },
  {
   "cell_type": "code",
   "execution_count": 5,
   "metadata": {},
   "outputs": [
    {
     "name": "stdout",
     "output_type": "stream",
     "text": [
      "::::::: [Digite a função] ::::::::\n",
      "Orientacoes para gerar a funcao desejada: \n",
      "    para elevar o valor a uma potencia utilize: ** (ex: 2**3)\n",
      "    divisao: 1/2 \n",
      "    multiplicacao simples: 2*2 \n",
      "    exponencial: math.exp\n",
      "    seno: math.sin(x)\n",
      "    cosseno: math.cos(x) \n",
      "\n",
      "____________________________________________ \n"
     ]
    }
   ],
   "source": [
    "function = get_expression()\n",
    "print(\"____________________________________________ \")"
   ]
  },
  {
   "cell_type": "code",
   "execution_count": 6,
   "metadata": {
    "scrolled": true
   },
   "outputs": [
    {
     "name": "stdout",
     "output_type": "stream",
     "text": [
      "<function <lambda> at 0x7f1f8c0c8830>\n"
     ]
    }
   ],
   "source": [
    "print(function)"
   ]
  },
  {
   "cell_type": "code",
   "execution_count": 7,
   "metadata": {},
   "outputs": [
    {
     "name": "stdout",
     "output_type": "stream",
     "text": [
      "Digite o limite inferior da integral: \n",
      "\n"
     ]
    },
    {
     "ename": "SyntaxError",
     "evalue": "unexpected EOF while parsing (<string>, line 0)",
     "output_type": "error",
     "traceback": [
      "Traceback \u001b[0;36m(most recent call last)\u001b[0m:\n",
      "  File \u001b[1;32m\"/home/thallesgremi/anaconda3/lib/python3.7/site-packages/IPython/core/interactiveshell.py\"\u001b[0m, line \u001b[1;32m3331\u001b[0m, in \u001b[1;35mrun_code\u001b[0m\n    exec(code_obj, self.user_global_ns, self.user_ns)\n",
      "\u001b[0;36m  File \u001b[0;32m\"<ipython-input-7-8b241ab888f0>\"\u001b[0;36m, line \u001b[0;32m2\u001b[0;36m, in \u001b[0;35m<module>\u001b[0;36m\u001b[0m\n\u001b[0;31m    a = eval(input())\u001b[0m\n",
      "\u001b[0;36m  File \u001b[0;32m\"<string>\"\u001b[0;36m, line \u001b[0;32munknown\u001b[0m\n\u001b[0;31m    \u001b[0m\n\u001b[0m    ^\u001b[0m\n\u001b[0;31mSyntaxError\u001b[0m\u001b[0;31m:\u001b[0m unexpected EOF while parsing\n"
     ]
    }
   ],
   "source": [
    "print(\"Digite o limite inferior da integral: \")\n",
    "a = eval(input())"
   ]
  },
  {
   "cell_type": "code",
   "execution_count": null,
   "metadata": {},
   "outputs": [],
   "source": [
    "print(\"Digite o limite superior da integral: \")\n",
    "b = eval(input())"
   ]
  },
  {
   "cell_type": "code",
   "execution_count": null,
   "metadata": {},
   "outputs": [],
   "source": [
    "print(\"Digite a quantidade de intervalos: \")\n",
    "n = int(input())"
   ]
  },
  {
   "cell_type": "code",
   "execution_count": null,
   "metadata": {},
   "outputs": [],
   "source": [
    "resultFromTrapezoidal = Trapezoidal(function, a, b, n)\n",
    "print(\"::::::::::::::::::::::: [Trapezio] :::::::::::::::::::::::\")\n",
    "print(resultFromTrapezoidal)"
   ]
  },
  {
   "cell_type": "code",
   "execution_count": null,
   "metadata": {},
   "outputs": [],
   "source": [
    "resultFromSimpson = Simpson(function, a, b, n)\n",
    "print(\"::::::::::::::::::::::: [Simpson] :::::::::::::::::::::::\")\n",
    "print(resultFromSimpson)"
   ]
  },
  {
   "cell_type": "code",
   "execution_count": null,
   "metadata": {},
   "outputs": [],
   "source": [
    "exact = function(3) - function(1) \n",
    "error = exact - resultFromTrapezoidal\n",
    "print(\"::::::::::::::::::::::: [ERROR TRAPEZOIDAL] :::::::::::::::::::::::\")\n",
    "print(error)"
   ]
  }
 ],
 "metadata": {
  "kernelspec": {
   "display_name": "Python 3",
   "language": "python",
   "name": "python3"
  },
  "language_info": {
   "codemirror_mode": {
    "name": "ipython",
    "version": 3
   },
   "file_extension": ".py",
   "mimetype": "text/x-python",
   "name": "python",
   "nbconvert_exporter": "python",
   "pygments_lexer": "ipython3",
   "version": "3.7.6"
  }
 },
 "nbformat": 4,
 "nbformat_minor": 4
}
