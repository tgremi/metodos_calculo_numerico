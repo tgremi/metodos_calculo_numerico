{
 "cells": [
  {
   "cell_type": "markdown",
   "metadata": {},
   "source": [
    "## Como exemplo de execução é utilizado a seguinte integral para cálculo utilizando método dos trapézios e Simpson \n",
    "\n",
    "$$\\int_{1}^3 f(x^2 + cos(1/x))dx$$\n"
   ]
  },
  {
   "cell_type": "code",
   "execution_count": null,
   "metadata": {},
   "outputs": [],
   "source": [
    "import math\n",
    "from ipywidgets import interact"
   ]
  },
  {
   "cell_type": "code",
   "execution_count": null,
   "metadata": {},
   "outputs": [],
   "source": [
    "def Trapezoidal(f, a, b, n):\n",
    "    h = (b-a)/float(n)\n",
    "    s = 0.001*(f(a) + f(b))\n",
    "    for i in range(1, n, 1):\n",
    "        s = s + f(a + i*h)\n",
    "    return h*s"
   ]
  },
  {
   "cell_type": "code",
   "execution_count": null,
   "metadata": {},
   "outputs": [],
   "source": [
    "\n",
    "def Simpson(f, a, b, n): \n",
    "    sum = float()\n",
    "    sum += f(a) \n",
    "    sum += f(b) \n",
    "    width=(b-a)/(2*n)\n",
    "    oddSum = float()\n",
    "    evenSum = float()\n",
    "    for i in range(1,n):\n",
    "        oddSum += f(2*width*i+a)\n",
    "    sum += oddSum * 2\n",
    "    for i in range(1,n+1): \n",
    "        evenSum += f(width*(-1+2*i)+a)\n",
    "    sum += evenSum * 4\n",
    "    return sum * width/3"
   ]
  },
  {
   "cell_type": "code",
   "execution_count": null,
   "metadata": {},
   "outputs": [],
   "source": []
  },
  {
   "cell_type": "code",
   "execution_count": null,
   "metadata": {},
   "outputs": [],
   "source": [
    "def get_expression(from_input):\n",
    "    print(\"::::::: [Digite a função] ::::::::\")\n",
    "    print(\"\"\"Orientacoes para gerar a funcao desejada: \n",
    "    para elevar o valor a uma potencia utilize: ** (ex: 2**3)\n",
    "    divisao: 1/2 \n",
    "    multiplicacao simples: 2*2 \n",
    "    exponencial: math.exp\n",
    "    seno: math.sin(x)\n",
    "    cosseno: math.cos(x) \"\"\")\n",
    "    default_value = '(x**2 + math.cos(1/x))'\n",
    "    if from_input == \"\":\n",
    "        return eval('lambda x: ' + default_value)\n",
    "    return eval('lambda x: ' + from_input)"
   ]
  },
  {
   "cell_type": "code",
   "execution_count": null,
   "metadata": {},
   "outputs": [],
   "source": [
    "def interact_view(from_input):\n",
    "    return get_expression(from_input)"
   ]
  },
  {
   "cell_type": "code",
   "execution_count": null,
   "metadata": {},
   "outputs": [],
   "source": [
    "def set_value(a):\n",
    "    return a"
   ]
  },
  {
   "cell_type": "code",
   "execution_count": null,
   "metadata": {},
   "outputs": [],
   "source": [
    "function = interact(interact_view, from_input='')\n",
    "print(\"____________________________________________ \")"
   ]
  },
  {
   "cell_type": "code",
   "execution_count": null,
   "metadata": {
    "scrolled": true
   },
   "outputs": [],
   "source": [
    "print(function)"
   ]
  },
  {
   "cell_type": "code",
   "execution_count": 1,
   "metadata": {},
   "outputs": [
    {
     "name": "stdout",
     "output_type": "stream",
     "text": [
      "Digite o limite inferior da integral: \n",
      "Valor padrão (1)\n"
     ]
    },
    {
     "ename": "NameError",
     "evalue": "name 'interact' is not defined",
     "output_type": "error",
     "traceback": [
      "\u001b[0;31m---------------------------------------------------------------------------\u001b[0m",
      "\u001b[0;31mNameError\u001b[0m                                 Traceback (most recent call last)",
      "\u001b[0;32m<ipython-input-1-63c093888f66>\u001b[0m in \u001b[0;36m<module>\u001b[0;34m\u001b[0m\n\u001b[1;32m      1\u001b[0m \u001b[0mprint\u001b[0m\u001b[0;34m(\u001b[0m\u001b[0;34m\"Digite o limite inferior da integral: \"\u001b[0m\u001b[0;34m)\u001b[0m\u001b[0;34m\u001b[0m\u001b[0;34m\u001b[0m\u001b[0m\n\u001b[1;32m      2\u001b[0m \u001b[0mprint\u001b[0m\u001b[0;34m(\u001b[0m\u001b[0;34m\"Valor padrão (1)\"\u001b[0m\u001b[0;34m)\u001b[0m\u001b[0;34m\u001b[0m\u001b[0;34m\u001b[0m\u001b[0m\n\u001b[0;32m----> 3\u001b[0;31m \u001b[0ma\u001b[0m \u001b[0;34m=\u001b[0m \u001b[0minteract\u001b[0m\u001b[0;34m(\u001b[0m\u001b[0mset_value\u001b[0m\u001b[0;34m,\u001b[0m \u001b[0ma\u001b[0m\u001b[0;34m=\u001b[0m\u001b[0;34m''\u001b[0m\u001b[0;34m)\u001b[0m\u001b[0;34m\u001b[0m\u001b[0;34m\u001b[0m\u001b[0m\n\u001b[0m\u001b[1;32m      4\u001b[0m \u001b[0;32mif\u001b[0m \u001b[0ma\u001b[0m \u001b[0;34m==\u001b[0m \u001b[0;34m\"\"\u001b[0m\u001b[0;34m:\u001b[0m\u001b[0;34m\u001b[0m\u001b[0;34m\u001b[0m\u001b[0m\n\u001b[1;32m      5\u001b[0m     \u001b[0ma\u001b[0m \u001b[0;34m=\u001b[0m \u001b[0meval\u001b[0m\u001b[0;34m(\u001b[0m\u001b[0;34m'1'\u001b[0m\u001b[0;34m)\u001b[0m\u001b[0;34m\u001b[0m\u001b[0;34m\u001b[0m\u001b[0m\n",
      "\u001b[0;31mNameError\u001b[0m: name 'interact' is not defined"
     ]
    }
   ],
   "source": [
    "print(\"Digite o limite inferior da integral: \")\n",
    "print(\"Valor padrão (1)\")\n",
    "a = interact(set_value, a='')\n",
    "if a == \"\": \n",
    "    a = eval('1')\n",
    "else: \n",
    "    a = eval(a)"
   ]
  },
  {
   "cell_type": "code",
   "execution_count": null,
   "metadata": {},
   "outputs": [],
   "source": [
    "print(\"Digite o limite superior da integral: \")\n",
    "print(\"Valor padrão (3)\")\n",
    "b = interact(set_value, b='')\n",
    "if b == \"\": \n",
    "    b = eval('3')\n",
    "else: \n",
    "    b = eval(b) "
   ]
  },
  {
   "cell_type": "code",
   "execution_count": null,
   "metadata": {},
   "outputs": [],
   "source": [
    "print(\"Digite a quantidade de intervalos: \")\n",
    "n = int(interact(set_value, n=''))"
   ]
  },
  {
   "cell_type": "code",
   "execution_count": null,
   "metadata": {},
   "outputs": [],
   "source": [
    "resultFromTrapezoidal = Trapezoidal(function, a, b, n)\n",
    "print(\"::::::::::::::::::::::: [Trapezio] :::::::::::::::::::::::\")\n",
    "print(resultFromTrapezoidal)"
   ]
  },
  {
   "cell_type": "code",
   "execution_count": null,
   "metadata": {},
   "outputs": [],
   "source": [
    "resultFromSimpson = Simpson(function, a, b, n)\n",
    "print(\"::::::::::::::::::::::: [Simpson] :::::::::::::::::::::::\")\n",
    "print(resultFromSimpson)"
   ]
  },
  {
   "cell_type": "code",
   "execution_count": null,
   "metadata": {},
   "outputs": [],
   "source": [
    "exact = function(3) - function(1) \n",
    "error = exact - resultFromTrapezoidal\n",
    "print(\"::::::::::::::::::::::: [ERROR TRAPEZOIDAL] :::::::::::::::::::::::\")\n",
    "print(error)"
   ]
  }
 ],
 "metadata": {
  "kernelspec": {
   "display_name": "Python 3",
   "language": "python",
   "name": "python3"
  },
  "language_info": {
   "codemirror_mode": {
    "name": "ipython",
    "version": 3
   },
   "file_extension": ".py",
   "mimetype": "text/x-python",
   "name": "python",
   "nbconvert_exporter": "python",
   "pygments_lexer": "ipython3",
   "version": "3.7.6"
  }
 },
 "nbformat": 4,
 "nbformat_minor": 4
}
